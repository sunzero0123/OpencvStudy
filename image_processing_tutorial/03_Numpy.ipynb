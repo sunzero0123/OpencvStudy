{
  "nbformat": 4,
  "nbformat_minor": 0,
  "metadata": {
    "colab": {
      "name": "03_Numpy.ipynb",
      "provenance": [],
      "collapsed_sections": []
    },
    "kernelspec": {
      "name": "python3",
      "display_name": "Python 3"
    }
  },
  "cells": [
    {
      "cell_type": "markdown",
      "metadata": {
        "id": "elPJIqvQSYIt"
      },
      "source": [
        "###Numpy 기본 사용법"
      ]
    },
    {
      "cell_type": "code",
      "metadata": {
        "colab": {
          "base_uri": "https://localhost:8080/"
        },
        "id": "2j_pJlgXSVU9",
        "outputId": "cbbd2329-51a8-4db7-8557-9092fb0179cd"
      },
      "source": [
        "import numpy as np\r\n",
        "\r\n",
        "array = np.array([1,2,3])\r\n",
        "print(array.size)#배열의 크기\r\n",
        "print(array.dtype)#배열 원소 타입\r\n",
        "print(array[2]) # 배열 인덱스 2의 원소"
      ],
      "execution_count": null,
      "outputs": [
        {
          "output_type": "stream",
          "text": [
            "3\n",
            "int64\n",
            "3\n"
          ],
          "name": "stdout"
        }
      ]
    },
    {
      "cell_type": "code",
      "metadata": {
        "colab": {
          "base_uri": "https://localhost:8080/"
        },
        "id": "-iIgUVO8Srax",
        "outputId": "1b10e4ea-a542-4695-a197-1cfaba6d3d20"
      },
      "source": [
        "import numpy as np \r\n",
        "\r\n",
        "#0부터 3까지의 배열 만들기\r\n",
        "array1 = np.arange(4)\r\n",
        "print(array1)\r\n",
        "\r\n",
        "#0으로 초기화\r\n",
        "array2 = np.zeros((4,4), dtype=float)\r\n",
        "print(array2)\r\n",
        "\r\n",
        "#1로 초기화 \r\n",
        "\r\n",
        "array3 = np.ones((3,3) ,dtype=str)\r\n",
        "print(array3)\r\n",
        "\r\n",
        "#빈칸이 나오는 이유는? \r\n",
        "array4 = np.zeros((3,3), dtype= str)\r\n",
        "print(array4)\r\n",
        "\r\n",
        "#0~9까지 랜덤하게 초기화된 배열 만들기\r\n",
        "array5 = np.random.randint(0,10,(3,3))\r\n",
        "print(array5)\r\n",
        "\r\n",
        "#평균이 0이고 표준편차가 1인 표준 정규를 띄는 배열 \r\n",
        "array6 = np.random.normal(0,1,(3,3))\r\n",
        "print(array6)"
      ],
      "execution_count": null,
      "outputs": [
        {
          "output_type": "stream",
          "text": [
            "[0 1 2 3]\n",
            "[[0. 0. 0. 0.]\n",
            " [0. 0. 0. 0.]\n",
            " [0. 0. 0. 0.]\n",
            " [0. 0. 0. 0.]]\n",
            "[['1' '1' '1']\n",
            " ['1' '1' '1']\n",
            " ['1' '1' '1']]\n",
            "[['' '' '']\n",
            " ['' '' '']\n",
            " ['' '' '']]\n",
            "[[7 0 6]\n",
            " [7 2 6]\n",
            " [3 0 2]]\n",
            "[[ 0.6811572   0.03661005  0.35353832]\n",
            " [-1.38519269  1.02801126  0.0292836 ]\n",
            " [-1.45796497  1.10251558 -1.80761829]]\n"
          ],
          "name": "stdout"
        }
      ]
    },
    {
      "cell_type": "markdown",
      "metadata": {
        "id": "0HOhOX87UTgW"
      },
      "source": [
        "다양한 형태로 합치기"
      ]
    },
    {
      "cell_type": "code",
      "metadata": {
        "colab": {
          "base_uri": "https://localhost:8080/"
        },
        "id": "MN0144LVS3lJ",
        "outputId": "cfb7d065-a58e-4c2c-ce3d-885cb6231e6a"
      },
      "source": [
        "import numpy as np\r\n",
        "\r\n",
        "array1 = np.array([1,2,3])\r\n",
        "array2 = np.array([4,5,6])\r\n",
        "array3 = np.concatenate([array1, array2])\r\n",
        "\r\n",
        "#.shape -> array에 대해서 몇행, 몇열 행렬로 구성되어있는지 알려줌\r\n",
        "print(array3.shape)\r\n",
        "print(array3)\r\n"
      ],
      "execution_count": null,
      "outputs": [
        {
          "output_type": "stream",
          "text": [
            "(6,)\n",
            "[1 2 3 4 5 6]\n"
          ],
          "name": "stdout"
        }
      ]
    },
    {
      "cell_type": "code",
      "metadata": {
        "colab": {
          "base_uri": "https://localhost:8080/"
        },
        "id": "X7u02c41Uo00",
        "outputId": "d64e6fe5-7e19-4a63-b40a-e45c349e803a"
      },
      "source": [
        "import numpy as np\r\n",
        "\r\n",
        "array1 = np.arange(4).reshape(1,4)\r\n",
        "array2 = np.arange(8).reshape(2,4)\r\n",
        "array3 = np.concatenate([array1, array2], axis = 0)\r\n",
        "\r\n",
        "print(array3.shape)\r\n",
        "print(array3)"
      ],
      "execution_count": null,
      "outputs": [
        {
          "output_type": "stream",
          "text": [
            "(3, 4)\n",
            "[[0 1 2 3]\n",
            " [0 1 2 3]\n",
            " [4 5 6 7]]\n"
          ],
          "name": "stdout"
        }
      ]
    },
    {
      "cell_type": "markdown",
      "metadata": {
        "id": "mfLfo0PaWLfk"
      },
      "source": [
        "Numpy의 형태를 변경할 수도 있다"
      ]
    },
    {
      "cell_type": "code",
      "metadata": {
        "colab": {
          "base_uri": "https://localhost:8080/"
        },
        "id": "kdzUEyViV-Qi",
        "outputId": "91750eba-034f-47e2-8416-7fb89778822d"
      },
      "source": [
        "import numpy as np\r\n",
        "\r\n",
        "array1 = np.array([1,2,3,4])\r\n",
        "array2 = array1.reshape((2,2))\r\n",
        "\r\n",
        "print(array2.shape)\r\n",
        "print(array2)"
      ],
      "execution_count": null,
      "outputs": [
        {
          "output_type": "stream",
          "text": [
            "(2, 2)\n",
            "[[1 2]\n",
            " [3 4]]\n"
          ],
          "name": "stdout"
        }
      ]
    },
    {
      "cell_type": "markdown",
      "metadata": {
        "id": "5KCKnxifWobv"
      },
      "source": [
        "\r\n",
        "\r\n",
        "Numpy의 형태를 나누기 \r\n",
        "\r\n"
      ]
    },
    {
      "cell_type": "code",
      "metadata": {
        "colab": {
          "base_uri": "https://localhost:8080/"
        },
        "id": "PHX7-fadWaKf",
        "outputId": "84e4ea56-5df2-4490-c29a-f2a98459827d"
      },
      "source": [
        "import numpy as np\r\n",
        "\r\n",
        "array = np.arange(8).reshape(2,4)\r\n",
        "left, right = np.split(array, [2], axis = 1)\r\n",
        "\r\n",
        "print(array)\r\n",
        "print(left.shape)\r\n",
        "print(left)\r\n",
        "print(right.shape)\r\n",
        "print(right)\r\n",
        "print(right[1][1])"
      ],
      "execution_count": null,
      "outputs": [
        {
          "output_type": "stream",
          "text": [
            "[[0 1 2 3]\n",
            " [4 5 6 7]]\n",
            "(2, 2)\n",
            "[[0 1]\n",
            " [4 5]]\n",
            "(2, 2)\n",
            "[[2 3]\n",
            " [6 7]]\n",
            "7\n"
          ],
          "name": "stdout"
        }
      ]
    },
    {
      "cell_type": "code",
      "metadata": {
        "colab": {
          "base_uri": "https://localhost:8080/"
        },
        "id": "-I32lEJqXHpC",
        "outputId": "2c53810e-0044-4d51-c6b4-cc8d73b9c875"
      },
      "source": [
        "import numpy as np\r\n",
        "\r\n",
        "array = np.arange(12).reshape(2,6)\r\n",
        "left, right = np.split(array, [3], axis = 1)\r\n",
        "\r\n",
        "print(array)\r\n",
        "print(left.shape)\r\n",
        "print(left)\r\n",
        "print(right.shape)\r\n",
        "print(right)\r\n",
        "print(right[1][1])"
      ],
      "execution_count": null,
      "outputs": [
        {
          "output_type": "stream",
          "text": [
            "[[ 0  1  2  3  4  5]\n",
            " [ 6  7  8  9 10 11]]\n",
            "(2, 3)\n",
            "[[0 1 2]\n",
            " [6 7 8]]\n",
            "(2, 3)\n",
            "[[ 3  4  5]\n",
            " [ 9 10 11]]\n",
            "10\n"
          ],
          "name": "stdout"
        }
      ]
    },
    {
      "cell_type": "code",
      "metadata": {
        "id": "STuVR40DYVzs"
      },
      "source": [
        ""
      ],
      "execution_count": null,
      "outputs": []
    }
  ]
}