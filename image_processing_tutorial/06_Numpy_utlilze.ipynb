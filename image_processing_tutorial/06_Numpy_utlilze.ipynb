{
  "nbformat": 4,
  "nbformat_minor": 0,
  "metadata": {
    "colab": {
      "name": "06_Numpy_utlilze.ipynb",
      "provenance": []
    },
    "kernelspec": {
      "name": "python3",
      "display_name": "Python 3"
    }
  },
  "cells": [
    {
      "cell_type": "markdown",
      "metadata": {
        "id": "Q9DqthiQ-oPP"
      },
      "source": [
        "**Numpy의 활용**"
      ]
    },
    {
      "cell_type": "markdown",
      "metadata": {
        "id": "74_gjgHD-wa8"
      },
      "source": [
        "Numpy 저장 및 불러오기\r\n"
      ]
    },
    {
      "cell_type": "code",
      "metadata": {
        "colab": {
          "base_uri": "https://localhost:8080/"
        },
        "id": "jM9NgA_e-WnJ",
        "outputId": "b94fb92d-dde5-48db-d613-a624232bd77a"
      },
      "source": [
        "import numpy as np\r\n",
        "\r\n",
        "array = np.arange(0,10)\r\n",
        "#numpy 배열 외부 파일로 저장하기\r\n",
        "np.save('saved.npy', array)\r\n",
        "\r\n",
        "result = np.load('saved.npy')\r\n",
        "print(result)"
      ],
      "execution_count": null,
      "outputs": [
        {
          "output_type": "stream",
          "text": [
            "[0 1 2 3 4 5 6 7 8 9]\n"
          ],
          "name": "stdout"
        }
      ]
    },
    {
      "cell_type": "code",
      "metadata": {
        "colab": {
          "base_uri": "https://localhost:8080/"
        },
        "id": "KUWpqsbB_Ap5",
        "outputId": "78adde2d-0815-4fd9-fdfe-4c523ab8d053"
      },
      "source": [
        "import numpy as np\r\n",
        "\r\n",
        "#복수 객체 저장 및 불러오기 \r\n",
        "\r\n",
        "array1 = np.arange(0,10)\r\n",
        "array2 = np.arange(10,20)\r\n",
        "np.savez('saved.npz', array1=array1, array2=array2)\r\n",
        "\r\n",
        "data = np.load('saved.npz')\r\n",
        "result1 = data['array1']\r\n",
        "result2 = data['array2']\r\n",
        "print(result1)\r\n",
        "print(result2)"
      ],
      "execution_count": null,
      "outputs": [
        {
          "output_type": "stream",
          "text": [
            "[0 1 2 3 4 5 6 7 8 9]\n",
            "[10 11 12 13 14 15 16 17 18 19]\n"
          ],
          "name": "stdout"
        }
      ]
    },
    {
      "cell_type": "markdown",
      "metadata": {
        "id": "eVEXejydnTGw"
      },
      "source": [
        "Numpy의 원소들은 특정한 기준에 따라서 정렬할 수 있다\r\n"
      ]
    },
    {
      "cell_type": "code",
      "metadata": {
        "id": "o5kih158_5qi",
        "colab": {
          "base_uri": "https://localhost:8080/"
        },
        "outputId": "96fae8f3-88f4-4197-fe1d-e86b1eeb92bf"
      },
      "source": [
        " import numpy as np\r\n",
        "\r\n",
        " #오름차순 정렬\r\n",
        "\r\n",
        " array = np.array([5,9,10,3,1])\r\n",
        " array.sort()\r\n",
        " print(array)\r\n",
        "\r\n",
        " #내림차순 정렬\r\n",
        "array = np.array([5,9,10,3,1])\r\n",
        "array.sort()\r\n",
        "print(array[::-1])\r\n",
        "\r\n",
        "#각 열을 기준으로 정렬\r\n",
        "\r\n",
        "array = np.array([[5,9,10,3,1], [8,3,4,2,5]])\r\n",
        "array.sort(axis=0)\r\n",
        "print(array)"
      ],
      "execution_count": 3,
      "outputs": [
        {
          "output_type": "stream",
          "text": [
            "[ 1  3  5  9 10]\n",
            "[10  9  5  3  1]\n",
            "[[ 5  3  4  2  1]\n",
            " [ 8  9 10  3  5]]\n"
          ],
          "name": "stdout"
        }
      ]
    },
    {
      "cell_type": "markdown",
      "metadata": {
        "id": "TsSTILOKoMWI"
      },
      "source": [
        "Numpy에서 자주 사용되는 함수 "
      ]
    },
    {
      "cell_type": "code",
      "metadata": {
        "colab": {
          "base_uri": "https://localhost:8080/"
        },
        "id": "1xkkCQGzninO",
        "outputId": "ac757a00-c2bf-4fea-850b-e817e50dab27"
      },
      "source": [
        "import numpy as np\r\n",
        "\r\n",
        "#균일한 간격으로 데이터 생성\r\n",
        "\r\n",
        "array = np.linspace(0,10,5)\r\n",
        "print(array)\r\n",
        "\r\n",
        "#난수의 재연(실행마다 결과 동일)\r\n",
        "np.random.seed(7)\r\n",
        "#1부터 10까지 랜덤한 숫자를 \r\n",
        "#2*3 numpy 행렬로 나타내기\r\n",
        "print(np.random.randint(0,10,(2,3)))\r\n",
        "\r\n",
        "#numpy 배열 객체 복사\r\n",
        "array1 = np.arange(10)\r\n",
        "array2 = array1.copy()\r\n",
        "print(array2)\r\n",
        "\r\n",
        "#중복 원소 제거 \r\n",
        "array = np.array([1,1,2,3,3,3,1])\r\n",
        "print(np.unique(array))"
      ],
      "execution_count": 9,
      "outputs": [
        {
          "output_type": "stream",
          "text": [
            "[ 0.   2.5  5.   7.5 10. ]\n",
            "[[4 9 6]\n",
            " [3 3 7]]\n",
            "[0 1 2 3 4 5 6 7 8 9]\n",
            "[1 2 3]\n"
          ],
          "name": "stdout"
        }
      ]
    },
    {
      "cell_type": "code",
      "metadata": {
        "id": "7J9LpMN4opoE"
      },
      "source": [
        ""
      ],
      "execution_count": null,
      "outputs": []
    }
  ]
}